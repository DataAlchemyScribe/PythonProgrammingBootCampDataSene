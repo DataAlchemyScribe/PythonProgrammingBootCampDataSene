{
  "cells": [
    {
      "cell_type": "markdown",
      "id": "c7bf97b6-47dc-4e39-b93c-d9028d28b402",
      "metadata": {
        "id": "c7bf97b6-47dc-4e39-b93c-d9028d28b402"
      },
      "source": [
        "# While Loop Assignemnt"
      ]
    },
    {
      "cell_type": "markdown",
      "id": "bbb17447-acc6-4935-8e43-01df84ca8946",
      "metadata": {
        "id": "bbb17447-acc6-4935-8e43-01df84ca8946"
      },
      "source": [
        "**Question1**\n",
        "\n",
        "Write a Python program to generate the first n numbers in the Fibonacci sequence using a while loop.\n",
        "\n",
        "Input: 7\n",
        "\n",
        "Output: 0, 1, 1, 2, 3, 5, 8  \n"
      ]
    },
    {
      "cell_type": "code",
      "execution_count": null,
      "id": "0c91d273-3021-455b-ae9e-047c6549b7cb",
      "metadata": {
        "colab": {
          "base_uri": "https://localhost:8080/"
        },
        "id": "0c91d273-3021-455b-ae9e-047c6549b7cb",
        "outputId": "f499c8f7-8241-4840-fa01-d3b9a6284ba3"
      },
      "outputs": [
        {
          "output_type": "stream",
          "name": "stdout",
          "text": [
            "Enter a number :7\n",
            "First 7 numbers in Fibonacci Sequence are : [0, 1, 1, 2, 3, 5, 8]\n"
          ]
        }
      ],
      "source": [
        "# getting the input n\n",
        "n = int(input(\"Enter a number :\"))\n",
        "\n",
        "# initializing the list with starting two elements of Fibonacci sequence\n",
        "Fibonacci_Sequence = [0,1]\n",
        "\n",
        "# initializing a variable to handle/verify the length of list does not exceed beyond n\n",
        "i = 2\n",
        "\n",
        "# performing iteration from index 2 till (n-1) on the list by simply assigning the current element with the sum of previous two elements\n",
        "while (i < n):\n",
        "  Fibonacci_Sequence.append(Fibonacci_Sequence[i-1] + Fibonacci_Sequence[i-2])\n",
        "  i+=1\n",
        "\n",
        "# printing the fibonacci sequence\n",
        "print(f\"First {n} numbers in Fibonacci Sequence are : {Fibonacci_Sequence}\")"
      ]
    },
    {
      "cell_type": "markdown",
      "id": "0572edf0-1caf-46a4-b197-7b5c107cb057",
      "metadata": {
        "id": "0572edf0-1caf-46a4-b197-7b5c107cb057"
      },
      "source": [
        "**Question 2:**\n",
        "\n",
        "Write a Python program that counts the number of digits in a given integer using a while loop.\n",
        "\n",
        "\n",
        "Input: 123456\n",
        "\n",
        "Output: 6  "
      ]
    },
    {
      "cell_type": "code",
      "execution_count": null,
      "id": "974d56ce-ec87-4c2a-b17a-7c155bba6f40",
      "metadata": {
        "colab": {
          "base_uri": "https://localhost:8080/"
        },
        "id": "974d56ce-ec87-4c2a-b17a-7c155bba6f40",
        "outputId": "e93cdc0a-6351-4e85-9478-741fa473d061"
      },
      "outputs": [
        {
          "output_type": "stream",
          "name": "stdout",
          "text": [
            "Enter a number : 123456\n",
            "123456 number contains 6 digits\n"
          ]
        }
      ],
      "source": [
        "# getting the input n\n",
        "n = int(input(\"Enter a number : \"))\n",
        "num = n\n",
        "# initializing a variable to manage the count of number of digits in n\n",
        "digit_count = 0\n",
        "\n",
        "# performing iteration till the int(n) is greater than 0, and incrementing the value of digit_count by 1 at every iteration\n",
        "# Note:- n is converting into a floating number (contains decimal values), that's why int(n) is being used to check the condition\n",
        "while (int(n) > 0):\n",
        "  digit_count+=1\n",
        "  n/=10\n",
        "\n",
        "# printing the count of digits present in n\n",
        "print(f\"{num} number contains {digit_count} digits\")"
      ]
    },
    {
      "cell_type": "markdown",
      "id": "231d8dfc-628c-40cd-a0b5-1887e126221d",
      "metadata": {
        "id": "231d8dfc-628c-40cd-a0b5-1887e126221d"
      },
      "source": [
        "**Question 3**\n",
        "\n",
        "Write a Python program to find the factorial of a given number using a while loop.\n",
        "\n",
        "\n",
        "Input: 5\n",
        "\n",
        "Output: 120  "
      ]
    },
    {
      "cell_type": "code",
      "execution_count": null,
      "id": "95dc3d9a-bc62-4f85-bc74-aca0fc20bb14",
      "metadata": {
        "colab": {
          "base_uri": "https://localhost:8080/"
        },
        "id": "95dc3d9a-bc62-4f85-bc74-aca0fc20bb14",
        "outputId": "e82dca43-1921-44ee-b120-b95abbdae487"
      },
      "outputs": [
        {
          "output_type": "stream",
          "name": "stdout",
          "text": [
            "Enter a number : 5\n",
            "Factorial of 5 = 120\n"
          ]
        }
      ],
      "source": [
        "# getting the input n\n",
        "n = int(input(\"Enter a number : \"))\n",
        "num = n\n",
        "# initializing a variable to manage and store the value of factorial\n",
        "fact = 1\n",
        "\n",
        "# performing iteration till int(n) is greater than 0, and multiplying current value of n with fact and then decrementing the value of n by 1\n",
        "while (n > 0):\n",
        "  fact *= n\n",
        "  n -= 1\n",
        "\n",
        "print(f\"Factorial of {num} = {fact}\")"
      ]
    },
    {
      "cell_type": "markdown",
      "id": "85acfdc3-22cf-418e-bcfe-3dd16760794b",
      "metadata": {
        "id": "85acfdc3-22cf-418e-bcfe-3dd16760794b"
      },
      "source": [
        "**Question 4**\n",
        "\n",
        "Write a Python program that calculates the sum of all even numbers up to a given number using a while loop.\n",
        "\n",
        "Input: 10\n",
        "\n",
        "Output: 30  \n"
      ]
    },
    {
      "cell_type": "code",
      "execution_count": null,
      "id": "fef6c7a4-36b0-4090-a253-a957238f1c02",
      "metadata": {
        "colab": {
          "base_uri": "https://localhost:8080/"
        },
        "id": "fef6c7a4-36b0-4090-a253-a957238f1c02",
        "outputId": "048b909f-13c4-44ed-aa68-4446f97886ce"
      },
      "outputs": [
        {
          "output_type": "stream",
          "name": "stdout",
          "text": [
            "Enter a number : 10\n",
            "Sum of all even numbers upto 10 = 30\n"
          ]
        }
      ],
      "source": [
        "# getting the input n\n",
        "n = int(input(\"Enter a number : \"))\n",
        "\n",
        "# initializing two variables, one variable to store the sum of even numbers upto n and another variable to handle iteration\n",
        "sum = i = 0\n",
        "\n",
        "# performing iteration till n and adding the current value to sum and then incrementing it by 2\n",
        "while (i <= n):\n",
        "  sum+=i\n",
        "  i+=2\n",
        "\n",
        "#printing the sum of all even numbers up to n\n",
        "print(f\"Sum of all even numbers upto {n} = {sum}\")"
      ]
    },
    {
      "cell_type": "markdown",
      "id": "6f2cc72c-3d35-409b-95f3-558dbf69f25c",
      "metadata": {
        "id": "6f2cc72c-3d35-409b-95f3-558dbf69f25c"
      },
      "source": [
        "**Question 5**\n",
        "\n",
        "Write a Python program to calculate the power of a number x raised to y (i.e., x^y) using a while loop.\n",
        "\n",
        "\n",
        "Input: x = 2, y = 5\n",
        "\n",
        "Output: 32  "
      ]
    },
    {
      "cell_type": "code",
      "execution_count": null,
      "id": "43d9726d-f55c-4222-8218-c6526581e86b",
      "metadata": {
        "colab": {
          "base_uri": "https://localhost:8080/"
        },
        "id": "43d9726d-f55c-4222-8218-c6526581e86b",
        "outputId": "553c61c7-f199-407c-e156-0a8e3b617a38"
      },
      "outputs": [
        {
          "output_type": "stream",
          "name": "stdout",
          "text": [
            "Enter the value of base : 2\n",
            "Enter the value of power : 5\n",
            "2 to the power of 5 (2 ^ 5) = 32\n"
          ]
        }
      ],
      "source": [
        "# getting the input x (base) and y (power)\n",
        "x = int(input(\"Enter the value of base : \"))\n",
        "y = int(input(\"Enter the value of power : \"))\n",
        "\n",
        "# initializing two variables, one (i) to handle iteration and another (x_power_y) to perform calculation of x to the power of y\n",
        "i = y\n",
        "x_power_y = 1\n",
        "\n",
        "# performing iteration till (i) is greater than 0, and multiplying x with x_power_y\n",
        "while (i > 0):\n",
        "  x_power_y *= x\n",
        "  i -= 1\n",
        "\n",
        "# printing the calculated value of x to the power of y\n",
        "print(f\"{x} to the power of {y} ({x} ^ {y}) = {x_power_y}\")"
      ]
    }
  ],
  "metadata": {
    "kernelspec": {
      "display_name": "Python 3 (ipykernel)",
      "language": "python",
      "name": "python3"
    },
    "language_info": {
      "codemirror_mode": {
        "name": "ipython",
        "version": 3
      },
      "file_extension": ".py",
      "mimetype": "text/x-python",
      "name": "python",
      "nbconvert_exporter": "python",
      "pygments_lexer": "ipython3",
      "version": "3.11.8"
    },
    "colab": {
      "provenance": []
    }
  },
  "nbformat": 4,
  "nbformat_minor": 5
}