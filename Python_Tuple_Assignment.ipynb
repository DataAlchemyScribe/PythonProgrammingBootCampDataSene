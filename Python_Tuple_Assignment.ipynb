{
  "cells": [
    {
      "cell_type": "markdown",
      "id": "e8ba4c4d-2da7-4a04-8c67-c730970cafcc",
      "metadata": {
        "id": "e8ba4c4d-2da7-4a04-8c67-c730970cafcc"
      },
      "source": [
        "# Day 2 Challenge Questions- Tuples\n",
        "\n",
        "**Solve Each of the Below Questions and Submit Your Answers on Linked in Post within 48 Hours. Attach Screenshots Preferably. If you are not able to Solve, comment \"Unable to Solve\" or \"Need More Time\"**"
      ]
    },
    {
      "cell_type": "markdown",
      "id": "598abed6-f682-49fe-83a6-a592621f6400",
      "metadata": {
        "id": "598abed6-f682-49fe-83a6-a592621f6400"
      },
      "source": [
        "# Question 1: Tuple Creation, Modification, and Operations\n",
        "\n",
        "Consider a tuple **student_record** representing information about students in a school. Use the following tuple structure:\n",
        "\n",
        "**student_record = (\n",
        "    ('John', 15, 'Class 10', ('Math', 'Science', 'English')),\n",
        "    ('Emma', 14, 'Class 9', ('History', 'Geography', 'Math')),\n",
        "    ('Michael', 16, 'Class 11', ('Physics', 'Chemistry', 'Biology')),\n",
        "    ('Sophia', 15, 'Class 10', ('Computer Science', 'Art', 'Music'))\n",
        ")**\n",
        "\n",
        "Perform the following operations and answer the questions:\n",
        "\n",
        "**1. Print the subjects that John studies.**\n",
        "\n",
        "**2. Change Michael's age from 16 to 17.**\n",
        "\n",
        "**3. Add a new student record 'Olivia', 14, 'Class 9', ('Social Studies', 'Languages', 'Math') to student_record.**\n",
        "\n",
        "**4. Print the updated tuple after the modification**"
      ]
    },
    {
      "cell_type": "code",
      "execution_count": null,
      "id": "8eacfa7b-54fa-469a-8d65-961619224c5d",
      "metadata": {
        "colab": {
          "base_uri": "https://localhost:8080/"
        },
        "id": "8eacfa7b-54fa-469a-8d65-961619224c5d",
        "outputId": "b7db3dd5-76e9-46e8-8b6d-b12ef9d00ef3"
      },
      "outputs": [
        {
          "output_type": "stream",
          "name": "stdout",
          "text": [
            "Name of subjects that John studies:  ('Math', 'Science', 'English')\n",
            "(('John', 15, 'Class 10', ('Math', 'Science', 'English')), ('Emma', 14, 'Class 9', ('History', 'Geography', 'Math')), ('Michael', 17, 'Class 11', ('Physics', 'Chemistry', 'Biology')), ('Sophia', 15, 'Class 10', ('Computer Science', 'Art', 'Music')), ('Olivia', 14, 'Class 9', ('Social Studies', 'Languages', 'Math')))\n"
          ]
        }
      ],
      "source": [
        "student_record = ( ('John', 15, 'Class 10', ('Math', 'Science', 'English')),\n",
        " ('Emma', 14, 'Class 9', ('History', 'Geography', 'Math')),\n",
        " ('Michael', 16, 'Class 11', ('Physics', 'Chemistry', 'Biology')),\n",
        "  ('Sophia', 15, 'Class 10', ('Computer Science', 'Art', 'Music')) )\n",
        "\n",
        "ls_student_record = list(student_record)\n",
        "\n",
        "# finding subject names that john studies\n",
        "subject_John_studies = ls_student_record[0][3]\n",
        "print(\"Name of subjects that John studies: \", subject_John_studies)\n",
        "\n",
        "# changing Michael's age from 16 to 17\n",
        "michael_details = list(ls_student_record[2])\n",
        "michael_details[1] = 17\n",
        "ls_student_record[2] = tuple(michael_details)\n",
        "\n",
        "# add new student record\n",
        "ls_student_record.append(tuple(['Olivia', 14, 'Class 9', ('Social Studies', 'Languages', 'Math')]))\n",
        "\n",
        "# printing updated record\n",
        "student_record = tuple(ls_student_record)\n",
        "print(student_record)\n"
      ]
    },
    {
      "cell_type": "markdown",
      "id": "f04996ec-fab0-4ffd-88ee-d90cb0932fd5",
      "metadata": {
        "id": "f04996ec-fab0-4ffd-88ee-d90cb0932fd5"
      },
      "source": [
        "# Question 2: Nested Tuple and Tuple Slicing\n",
        "\n",
        "Given a tuple **data_set** representing a dataset with multiple observations, each containing measurements and details:\n",
        "\n",
        "**data_set = (\n",
        "    ('Alice', (65, 120), 'USA'),\n",
        "    ('Bob', (72, 150), 'Canada'),\n",
        "    ('Carol', (68, 130), 'Australia'),\n",
        "    ('David', (70, 140), 'UK')\n",
        ")**\n",
        "\n",
        "Answer the following questions based on data_set:\n",
        "\n",
        "**1. Print the height of Bob.**\n",
        "\n",
        "**2. Extract and print the weights of Alice, Carol, and David using tuple slicing.**\n",
        "\n",
        "**3. Change Carol's country from 'Australia' to 'New Zealand'.**\n",
        "\n",
        "**4. Print the updated tuple after the modifications.**\n",
        "\n"
      ]
    },
    {
      "cell_type": "code",
      "execution_count": null,
      "id": "6a594651-1165-47fd-a244-2714a4de2fd8",
      "metadata": {
        "colab": {
          "base_uri": "https://localhost:8080/"
        },
        "id": "6a594651-1165-47fd-a244-2714a4de2fd8",
        "outputId": "a8810fe3-cea2-4249-d9c1-00f354d7f90d"
      },
      "outputs": [
        {
          "output_type": "stream",
          "name": "stdout",
          "text": [
            "Height of Bob (in inch):  72\n",
            "Alice Weight:  120\n",
            "Carol Weight:  130\n",
            "David Weight:  140\n",
            "(('Alice', (65, 120), 'USA'), ('Bob', (72, 150), 'Canada'), ('Carol', (68, 130), 'New Zealand'), ('David', (70, 140), 'UK'))\n"
          ]
        }
      ],
      "source": [
        "data_set = ( ('Alice', (65, 120), 'USA'), ('Bob', (72, 150), 'Canada'), ('Carol', (68, 130), 'Australia'), ('David', (70, 140), 'UK') )\n",
        "\n",
        "# printing Bob's Height\n",
        "print(\"Height of Bob (in inch): \", data_set[1][1][0])\n",
        "\n",
        "# extracting and printing weight of Alice, Carol and David\n",
        "alice_weight, carol_weight, david_weight = data_set[0][1][1], data_set[2][1][1], data_set[3][1][1]\n",
        "print(\"Alice Weight: \",alice_weight)\n",
        "print(\"Carol Weight: \",carol_weight)\n",
        "print(\"David Weight: \",david_weight)\n",
        "\n",
        "# changing carol's country from Australia to New Zealand\n",
        "ls_ds = list(data_set)\n",
        "carol_details = list(ls_ds[2])\n",
        "carol_details[2] = 'New Zealand'\n",
        "ls_ds[2] = tuple(carol_details)\n",
        "data_set = tuple(ls_ds)\n",
        "\n",
        "# printing updated dataset\n",
        "print(data_set)"
      ]
    }
  ],
  "metadata": {
    "kernelspec": {
      "display_name": "Python 3 (ipykernel)",
      "language": "python",
      "name": "python3"
    },
    "language_info": {
      "codemirror_mode": {
        "name": "ipython",
        "version": 3
      },
      "file_extension": ".py",
      "mimetype": "text/x-python",
      "name": "python",
      "nbconvert_exporter": "python",
      "pygments_lexer": "ipython3",
      "version": "3.11.8"
    },
    "colab": {
      "provenance": []
    }
  },
  "nbformat": 4,
  "nbformat_minor": 5
}