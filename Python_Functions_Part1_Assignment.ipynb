{
  "cells": [
    {
      "cell_type": "markdown",
      "id": "bab29f0e-05d6-4ec3-a40d-36f12f68f60f",
      "metadata": {
        "id": "bab29f0e-05d6-4ec3-a40d-36f12f68f60f"
      },
      "source": [
        "# Functions Basics- Assignment"
      ]
    },
    {
      "cell_type": "markdown",
      "id": "e4b6b4f9-cb0e-4503-8737-affdca3d81db",
      "metadata": {
        "id": "e4b6b4f9-cb0e-4503-8737-affdca3d81db"
      },
      "source": [
        "**Q1. Calculate Area of a Rectangle**\n",
        "\n",
        "Define a function named calculate_area that takes two parameters, length and width, and returns the area of a rectangle.\n",
        "    \n",
        "Call the function with the arguments 5 and 3."
      ]
    },
    {
      "cell_type": "code",
      "execution_count": null,
      "id": "f799ddd9-724a-4a4c-befc-b56c8f52d623",
      "metadata": {
        "colab": {
          "base_uri": "https://localhost:8080/"
        },
        "id": "f799ddd9-724a-4a4c-befc-b56c8f52d623",
        "outputId": "fea3ee67-1e45-48be-bd6e-b3db6f7160fc"
      },
      "outputs": [
        {
          "output_type": "stream",
          "name": "stdout",
          "text": [
            "Area of rectangle with length 5 and width 3 is 15 sq. unit\n"
          ]
        }
      ],
      "source": [
        "def calculate_area(l, w):\n",
        "  \"\"\"This function has two parameters length (l) and width (w) of rectangle and returns the area of rectangle\"\"\"\n",
        "  return (l * w)\n",
        "\n",
        "# main() code\n",
        "length, width = 5, 3\n",
        "print(f\"Area of rectangle with length {length} and width {width} is {calculate_area(length, width)} sq. unit\")"
      ]
    },
    {
      "cell_type": "markdown",
      "id": "aca86482-fc6c-47f8-9f6a-122486ab6502",
      "metadata": {
        "id": "aca86482-fc6c-47f8-9f6a-122486ab6502"
      },
      "source": [
        "**Q2. Convert Temperature from Celsius to Fahrenheit**\n",
        "\n",
        "Define a function named celsius_to_fahrenheit that takes one parameter, celsius, and returns the temperature in Fahrenheit.\n",
        "\n",
        "Call the function with the argument 25"
      ]
    },
    {
      "cell_type": "code",
      "execution_count": null,
      "id": "b4bad3ad-4ce0-41e4-a582-4c7310f31995",
      "metadata": {
        "colab": {
          "base_uri": "https://localhost:8080/"
        },
        "id": "b4bad3ad-4ce0-41e4-a582-4c7310f31995",
        "outputId": "06262db3-e693-4f43-fc2e-527a4e7fd762"
      },
      "outputs": [
        {
          "output_type": "stream",
          "name": "stdout",
          "text": [
            "25 degree celsius = 77.0 fahrenheit\n"
          ]
        }
      ],
      "source": [
        "def celsius_to_fahrenheit(temp_degree_celsius):\n",
        "  \"\"\"This function has one parameter temperature (temp_degree_celsius - temperature in celsius) and returns equivalent temperature in fahrenheit\"\"\"\n",
        "  return ((temp_degree_celsius * 1.8) + 32)\n",
        "\n",
        "# main() code\n",
        "temperature_celsius = 25\n",
        "print(f\"{temperature_celsius} degree celsius = {celsius_to_fahrenheit(temperature_celsius)} fahrenheit\")"
      ]
    },
    {
      "cell_type": "markdown",
      "source": [
        "**Q3. Check if a Number is Prime**\n",
        "\n",
        "Define a function named is_prime that takes one parameter, number, and returns True if the number is prime and False otherwise.\n",
        "    \n",
        "Call the function with the argument 29."
      ],
      "metadata": {
        "id": "pUrE2XUbqhwL"
      },
      "id": "pUrE2XUbqhwL"
    },
    {
      "cell_type": "code",
      "execution_count": null,
      "id": "ae7de1f0-ba8e-4a12-9b4f-a4e17c1b3bfe",
      "metadata": {
        "colab": {
          "base_uri": "https://localhost:8080/"
        },
        "id": "ae7de1f0-ba8e-4a12-9b4f-a4e17c1b3bfe",
        "outputId": "465eca0d-fdc4-42a7-9ef4-be0e80aa5097"
      },
      "outputs": [
        {
          "output_type": "stream",
          "name": "stdout",
          "text": [
            "True\n"
          ]
        }
      ],
      "source": [
        "def is_prime(x):\n",
        "  \"\"\"This function has one paramter (x) and returns True if x is prime, otherwise False\"\"\"\n",
        "\n",
        "  for i in range(2,int(x/2)):\n",
        "    if x % i == 0:\n",
        "      return False\n",
        "\n",
        "  return True\n",
        "\n",
        "# main() code\n",
        "num = 29\n",
        "print(is_prime(num))"
      ]
    },
    {
      "cell_type": "markdown",
      "source": [
        "**Q4. Find the Maximum of Three Numbers**\n",
        "\n",
        "Define a function named find_maximum that takes three parameters, a, b, and c and returns the maximum number among these numbers.\n",
        "    \n",
        "Call the function with the argument 5, 12 and 7."
      ],
      "metadata": {
        "id": "gWE0yEp5u1Rd"
      },
      "id": "gWE0yEp5u1Rd"
    },
    {
      "cell_type": "code",
      "source": [
        "def find_maximum(a, b, c):\n",
        "  \"\"\"This function has three parameters a, b, c and returns that number which is maximum among them\"\"\"\n",
        "\n",
        "  if (a > b) and (a > c):\n",
        "    return a\n",
        "  elif (b > a) and (b > c):\n",
        "    return b\n",
        "  else:\n",
        "    return c\n",
        "\n",
        "# main() code\n",
        "num1, num2, num3 = 5, 12, 7\n",
        "print(f\"Maximum number among {num1}, {num2} and {num3} is {find_maximum(num1, num2, num3)}\")"
      ],
      "metadata": {
        "colab": {
          "base_uri": "https://localhost:8080/"
        },
        "id": "daSs-QV2v0Fu",
        "outputId": "4f42721b-22a3-4e33-9ce5-e7fb28fa7f74"
      },
      "id": "daSs-QV2v0Fu",
      "execution_count": null,
      "outputs": [
        {
          "output_type": "stream",
          "name": "stdout",
          "text": [
            "Maximum number among 5, 12 and 7 is 12\n"
          ]
        }
      ]
    },
    {
      "cell_type": "markdown",
      "source": [
        "**Q5. Fibonacci Sequence Generator**\n",
        "\n",
        "Define a function named generate_fibonacci that takes one parameter, n and returns a list of n numbers in fibonacci sequence.\n",
        "    \n",
        "Call the function with the argument 10."
      ],
      "metadata": {
        "id": "Yl2jLjkjwjSN"
      },
      "id": "Yl2jLjkjwjSN"
    },
    {
      "cell_type": "code",
      "source": [
        "def generate_fibonacci(n):\n",
        "  \"\"\"This function has one parameter (n) and returns n generated fibonacci sequence elements\"\"\"\n",
        "  fibonacci_list = [0, 1]\n",
        "\n",
        "  for i in range(2, n):\n",
        "    fibonacci_list.append(fibonacci_list[i - 1] + fibonacci_list[i - 2])\n",
        "\n",
        "  return fibonacci_list\n",
        "\n",
        "# main() code\n",
        "print(f\"Generating Fibonacci Sequence :\\n{generate_fibonacci(10)}\")"
      ],
      "metadata": {
        "colab": {
          "base_uri": "https://localhost:8080/"
        },
        "id": "ExHghWYpxA6M",
        "outputId": "db3a9d76-60bd-4fb1-b254-67faffe38e34"
      },
      "id": "ExHghWYpxA6M",
      "execution_count": null,
      "outputs": [
        {
          "output_type": "stream",
          "name": "stdout",
          "text": [
            "Generating Fibonacci Sequence :\n",
            "[0, 1, 1, 2, 3, 5, 8, 13, 21, 34]\n"
          ]
        }
      ]
    }
  ],
  "metadata": {
    "kernelspec": {
      "display_name": "Python 3 (ipykernel)",
      "language": "python",
      "name": "python3"
    },
    "language_info": {
      "codemirror_mode": {
        "name": "ipython",
        "version": 3
      },
      "file_extension": ".py",
      "mimetype": "text/x-python",
      "name": "python",
      "nbconvert_exporter": "python",
      "pygments_lexer": "ipython3",
      "version": "3.12.4"
    },
    "colab": {
      "provenance": []
    }
  },
  "nbformat": 4,
  "nbformat_minor": 5
}