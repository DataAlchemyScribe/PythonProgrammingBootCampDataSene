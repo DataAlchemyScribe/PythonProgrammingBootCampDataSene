{
  "nbformat": 4,
  "nbformat_minor": 0,
  "metadata": {
    "colab": {
      "provenance": []
    },
    "kernelspec": {
      "name": "python3",
      "display_name": "Python 3"
    },
    "language_info": {
      "name": "python"
    }
  },
  "cells": [
    {
      "cell_type": "markdown",
      "source": [
        "# **Problem 1:**\n",
        "\n",
        "**Write a Python function divide_numbers(a, b) that takes two numbers and returns their division. Use a try-except block to handle the case where the divisor is zero.**"
      ],
      "metadata": {
        "id": "11tUpzXya4e1"
      }
    },
    {
      "cell_type": "code",
      "source": [
        "# function to perform division\n",
        "def divide_numbers(a, b):\n",
        "  \"\"\"This function takes two arguments a and b which represents numerator and denominator respectively for division operation.\n",
        "     Also, the error handling for divide by zero is done!\n",
        "  \"\"\"\n",
        "\n",
        "  # error handling\n",
        "  try:\n",
        "    div_result = a / b\n",
        "  except ZeroDivisionError:\n",
        "    print(\"Mathematical paradox detected: dividing by zero equals infinity, and your sanity.\")\n",
        "  else:\n",
        "    print(f\"{a} divided by {b} = {div_result}\")\n",
        "\n",
        "# main() code\n",
        "numerator = int(input(\"Enter a number (value for numerator): \"))\n",
        "denominator = int(input(\"Enter a number (value for denominator): \"))\n",
        "divide_numbers(numerator, denominator)"
      ],
      "metadata": {
        "id": "HrsPVk3sa8ot",
        "colab": {
          "base_uri": "https://localhost:8080/"
        },
        "outputId": "066440f4-3f77-4c32-b3e2-2d17738c845c"
      },
      "execution_count": null,
      "outputs": [
        {
          "output_type": "stream",
          "name": "stdout",
          "text": [
            "Enter a number (value for numerator): 9\n",
            "Enter a number (value for denominator): 0\n",
            "Mathematical paradox detected: dividing by zero equals infinity, and your sanity.\n"
          ]
        }
      ]
    },
    {
      "cell_type": "markdown",
      "source": [
        "# **Problem 2:**\n",
        "\n",
        "**Modify the divide_numbers(a, b) function to also handle the case where either a or b is not a number. Use try-except to catch ZeroDivisionError and TypeError.**"
      ],
      "metadata": {
        "id": "EhZHbxP0bA6t"
      }
    },
    {
      "cell_type": "code",
      "source": [
        "# modified function to perform division (1st modification)\n",
        "def divide_numbers(a, b):\n",
        "  \"\"\"This function takes two arguments a and b which represents numerator and denominator respectively for division operation.\n",
        "     Also, the error handling for divide by zero and is done!\n",
        "     Also, the error handling for verifying the type error (if any argument is not a number then error will raise) is done!\n",
        "  \"\"\"\n",
        "\n",
        "  # error handling\n",
        "  try:\n",
        "    div_result = a / b\n",
        "  except TypeError:\n",
        "    print(\"Warning: Non-numeric values found. Please check your math mojo.\")\n",
        "  except ZeroDivisionError:\n",
        "    print(\"Mathematical paradox detected: dividing by zero equals infinity, and your sanity.\")\n",
        "  else:\n",
        "    print(f\"{a} divided by {b} = {div_result}\")\n",
        "\n",
        "# main() code\n",
        "numerator = 99\n",
        "denominator = 'a'\n",
        "divide_numbers(numerator, denominator)"
      ],
      "metadata": {
        "id": "m5k-4fg2bBSU",
        "colab": {
          "base_uri": "https://localhost:8080/"
        },
        "outputId": "eda5dcf1-1690-4e77-a9cd-5e6d526fe240"
      },
      "execution_count": null,
      "outputs": [
        {
          "output_type": "stream",
          "name": "stdout",
          "text": [
            "Warning: Non-numeric values found. Please check your math mojo.\n"
          ]
        }
      ]
    },
    {
      "cell_type": "markdown",
      "source": [
        "# **Problem 3:**\n",
        "\n",
        "**Create a custom exception called NegativeNumberError. Write a function check_positive(number) that raises this exception if the input number is negative.**"
      ],
      "metadata": {
        "id": "HRp4wgX4bBok"
      }
    },
    {
      "cell_type": "code",
      "source": [
        "# custom exception, which gets raise when encountered number is negative\n",
        "class NegativeNumberError(Exception):\n",
        "  pass\n",
        "\n",
        "# function to check if entered number is positive or not\n",
        "def check_positive(n):\n",
        "  \"\"\"This function takes single argument as n and verify if it is a positive number or not.\n",
        "     Also, a custom exception is created which gets raise, if n is negative number\n",
        "  \"\"\"\n",
        "  if (n < 0):\n",
        "    raise NegativeNumberError(\"Negative vibes detected! Please enter a positive number.\")\n",
        "  elif (n == 0):\n",
        "    print(f\"{0} is nethier negative nor positive\")\n",
        "  else:\n",
        "    print(f\"{n} is positive number\")\n",
        "\n",
        "\n",
        "# main() code\n",
        "num = int(input(\"Enter a number: \"))\n",
        "\n",
        "# error handling\n",
        "try:\n",
        "  check_positive(num)\n",
        "except NegativeNumberError as e:\n",
        "  print(e)"
      ],
      "metadata": {
        "id": "PDHwvM6-bB3V",
        "colab": {
          "base_uri": "https://localhost:8080/"
        },
        "outputId": "8a4105c6-971c-4dce-a502-a300bd40e561"
      },
      "execution_count": null,
      "outputs": [
        {
          "output_type": "stream",
          "name": "stdout",
          "text": [
            "Enter a number: -96\n",
            "Negative vibes detected! Please enter a positive number.\n"
          ]
        }
      ]
    },
    {
      "cell_type": "markdown",
      "source": [
        "# **Problem 4:**\n",
        "\n",
        "**Modify the divide_numbers(a, b) function to print a success message using an else block if the division is successful and no exceptions are raised.**\n"
      ],
      "metadata": {
        "id": "sKZmu8JGbCH-"
      }
    },
    {
      "cell_type": "code",
      "source": [
        "# modified function to perform division (2nd modification)\n",
        "def divide_numbers(a, b):\n",
        "  \"\"\"This function takes two arguments a and b which represents numerator and denominator respectively for division operation.\n",
        "     Also, the error handling for divide by zero and is done!\n",
        "     Also, the error handling for verifying the type error (if any argument is not a number then error will raise) is done!\n",
        "     Also, if no error gets raise, then success message will be shown!\n",
        "  \"\"\"\n",
        "\n",
        "  # error handling\n",
        "  try:\n",
        "    div_result = a / b\n",
        "  except TypeError:\n",
        "    print(\"Warning: Non-numeric values found. Please check your math mojo.\")\n",
        "  except ZeroDivisionError:\n",
        "    print(\"Mathematical paradox detected: dividing by zero equals infinity, and your sanity.\")\n",
        "  else:\n",
        "    print(f\"{a} divided by {b} = {div_result}\")\n",
        "    print(\"The function just did a victory lap around the codebase!\")\n",
        "\n",
        "# main() code\n",
        "numerator = 99\n",
        "denominator = 3\n",
        "divide_numbers(numerator, denominator)"
      ],
      "metadata": {
        "id": "mV-fP5oAbCQV",
        "colab": {
          "base_uri": "https://localhost:8080/"
        },
        "outputId": "ee1d30c6-6d52-4dd1-9500-6fddb6993bc7"
      },
      "execution_count": null,
      "outputs": [
        {
          "output_type": "stream",
          "name": "stdout",
          "text": [
            "99 divided by 3 = 33.0\n",
            "The function just did a victory lap around the codebase!\n"
          ]
        }
      ]
    },
    {
      "cell_type": "markdown",
      "source": [
        "# **Problem 5:**\n",
        "\n",
        "**Write a Python function that opens a file, reads its content, and closes the file. Use a finally block to ensure the file is always closed, regardless of whether an exception occurs.**"
      ],
      "metadata": {
        "id": "KL0dJJXRbKxN"
      }
    },
    {
      "cell_type": "code",
      "source": [
        "def reading_file_operation(nameOfFile):\n",
        "  \"\"\"This function takes single argument as a string (name of file) to perform reading operation onto the file.\n",
        "     Also, the error handling is done!\n",
        "  \"\"\"\n",
        "\n",
        "  # error handling\n",
        "  try:\n",
        "    filename = open(nameOfFile, 'r')\n",
        "    text_in_file = filename.read()\n",
        "  except FileNotFoundError:\n",
        "    print(f\"Whoops! The elusive file {nameOfFile} has gone undercover.\")\n",
        "  finally:\n",
        "    filename.close()\n",
        "    print(\"Mission accomplished: file closed!\")\n",
        "\n",
        "# main() code\n",
        "f_name = input(\"Enter the filename (with extension): \")\n",
        "reading_file_operation(f_name)"
      ],
      "metadata": {
        "id": "aLaB-E2RbK41",
        "colab": {
          "base_uri": "https://localhost:8080/"
        },
        "outputId": "b743ad9e-412a-4da9-d2cf-fc5d0a94bf52"
      },
      "execution_count": null,
      "outputs": [
        {
          "output_type": "stream",
          "name": "stdout",
          "text": [
            "Enter the filename (with extension): sampleFile.ipynb\n",
            "Whoops! The elusive file sampleFile.ipynb has gone undercover.\n",
            "Mission accomplished: file closed!\n"
          ]
        }
      ]
    }
  ]
}