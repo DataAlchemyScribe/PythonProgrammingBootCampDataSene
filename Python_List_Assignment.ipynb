{
  "cells": [
    {
      "cell_type": "markdown",
      "id": "9cb406d1-b764-4e98-9ea2-b5807b3b6443",
      "metadata": {
        "id": "9cb406d1-b764-4e98-9ea2-b5807b3b6443"
      },
      "source": [
        "# Day 1 Challenge Questions- LIST\n",
        "\n",
        "**Solve Each of the Below Questions and Submit Your Answers on Linked in Post within 48 Hours. Attach Screenshots Preferably. If you are not able to Solve, comment \"Unable to Solve\" or \"Need More Time\"**"
      ]
    },
    {
      "cell_type": "markdown",
      "id": "cb53b241-e17f-4b3e-a145-a0d96c3827cf",
      "metadata": {
        "id": "cb53b241-e17f-4b3e-a145-a0d96c3827cf"
      },
      "source": [
        "# Question 1:List Operations\n",
        "\n",
        "You are given a list of fruits: ['apple', 'banana', 'cherry']. Perform the following operations:\n",
        "\n",
        "**1. Append the fruit 'orange' to the list.**\n",
        "\n",
        "**2. Remove the fruit 'banana' from the list.**\n",
        "\n",
        "**3. Pop the last fruit from the list and print it.**\n",
        "\n"
      ]
    },
    {
      "cell_type": "code",
      "execution_count": null,
      "id": "de83523d-65ae-4908-9b01-684c49eaa8d2",
      "metadata": {
        "colab": {
          "base_uri": "https://localhost:8080/"
        },
        "id": "de83523d-65ae-4908-9b01-684c49eaa8d2",
        "outputId": "593efca0-6bcb-4511-eb82-f4e759254d02"
      },
      "outputs": [
        {
          "output_type": "stream",
          "name": "stdout",
          "text": [
            "['apple', 'banana', 'cherry']\n",
            "['apple', 'banana', 'cherry', 'orange']\n",
            "['apple', 'cherry', 'orange']\n",
            "['apple', 'cherry']\n",
            "orange\n"
          ]
        }
      ],
      "source": [
        "fruits= ['apple', 'banana', 'cherry']\n",
        "print(fruits)\n",
        "\n",
        "#1. appending orange to fruit list\n",
        "fruits.append('orange')\n",
        "print(fruits)\n",
        "\n",
        "#2. removing banana from fruit list\n",
        "fruits.remove('banana')\n",
        "print(fruits)\n",
        "\n",
        "#3. poping the last item from fruit list\n",
        "last_fruit = fruits.pop()\n",
        "print(fruits)\n",
        "print(last_fruit)"
      ]
    },
    {
      "cell_type": "markdown",
      "id": "46e7ca1e-7a19-44ec-b0fb-fdad47962032",
      "metadata": {
        "id": "46e7ca1e-7a19-44ec-b0fb-fdad47962032"
      },
      "source": [
        "# Question 2: List Combination, Comprehension\n",
        "\n",
        "You have two lists: list1 = [1, 2, 3] and list2 = [4, 5, 6]. Perform the following operations:\n",
        "\n",
        "**1. Combine list1 and list2 into a single list combined_list.**\n",
        "\n",
        "**2. Use list comprehension to create a new list squared_list that contains the squares of the elements in combined_list.**\n",
        "\n",
        "**3. Print both combined_list and squared_list.**\n"
      ]
    },
    {
      "cell_type": "code",
      "execution_count": null,
      "id": "a0b1e706-4749-44d3-b9dd-8b0bdd519adc",
      "metadata": {
        "colab": {
          "base_uri": "https://localhost:8080/"
        },
        "id": "a0b1e706-4749-44d3-b9dd-8b0bdd519adc",
        "outputId": "990d3066-916c-493a-bfc8-02304a528cff"
      },
      "outputs": [
        {
          "output_type": "stream",
          "name": "stdout",
          "text": [
            "Combining two lists:  [1, 2, 3, 4, 5, 6]\n",
            "List of square elements of combined list created using list comprehension:  [1, 4, 9, 16, 25, 36]\n"
          ]
        }
      ],
      "source": [
        "ls1 = [1,2,3]\n",
        "ls2 = [4,5,6]\n",
        "\n",
        "# combining lists ls1 and ls2\n",
        "combined_list = ls1 + ls2\n",
        "\n",
        "# creating a list of sqaures of the elements of combined list\n",
        "sqaured_list = [i**2 for i in combined_list]\n",
        "\n",
        "print(\"Combining two lists: \", combined_list)\n",
        "print(\"List of square elements of combined list created using list comprehension: \", sqaured_list)"
      ]
    }
  ],
  "metadata": {
    "kernelspec": {
      "display_name": "Python 3 (ipykernel)",
      "language": "python",
      "name": "python3"
    },
    "language_info": {
      "codemirror_mode": {
        "name": "ipython",
        "version": 3
      },
      "file_extension": ".py",
      "mimetype": "text/x-python",
      "name": "python",
      "nbconvert_exporter": "python",
      "pygments_lexer": "ipython3",
      "version": "3.11.8"
    },
    "colab": {
      "provenance": []
    }
  },
  "nbformat": 4,
  "nbformat_minor": 5
}