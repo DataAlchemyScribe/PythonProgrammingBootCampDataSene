{
  "cells": [
    {
      "cell_type": "markdown",
      "id": "2b5f8c22-ae50-4767-9788-d4b755ac5ca8",
      "metadata": {
        "id": "2b5f8c22-ae50-4767-9788-d4b755ac5ca8"
      },
      "source": [
        "# Day 3 : Challenge Questions- Dictionary\n",
        "\n",
        "Solve Each of the Below Questions and Submit Your Answers on Linked in Post within 48 Hours. Attach Screenshots Preferably. If you are not able to Solve, comment \"Unable to Solve\" or \"Need More Time\""
      ]
    },
    {
      "cell_type": "markdown",
      "id": "7d4b295e-10dd-4b73-a274-16aa1f066b00",
      "metadata": {
        "id": "7d4b295e-10dd-4b73-a274-16aa1f066b00"
      },
      "source": [
        "# Question 1\n",
        "\n",
        "**Creating and Accessing Dictionaries**\n",
        "\n",
        "**1.1 Creating Dictionaries:**\n",
        "\n",
        "a) Create a dictionary named book with the following key-value pairs: **title: 'To Kill a Mockingbird', author: 'Harper Lee', year: 1960.**\n",
        "\n",
        "b) Create a dictionary named library using the dict function with the following key-value pairs: **location: 'Main St', num_books: 3000, open_hours: '9AM-5PM'.**\n",
        "\n",
        "**1.2 Accessing Elements:**\n",
        "\n",
        "a) Access and print the value associated with the key **title** from the book dictionary.\n",
        "\n",
        "b) Update the **year** value in the book dictionary to 1961 and print the updated dictionary.\n",
        "\n",
        "c) Add a new key-value pair **genre: 'Fiction'** to the book dictionary and print the updated dictionary.\n",
        "\n",
        "d) Access the value of **num_books from the library dictionary** using the **get** method and print it.\n",
        "\n"
      ]
    },
    {
      "cell_type": "code",
      "execution_count": null,
      "id": "48ad872b-29eb-452d-bafa-8478b6cbc0ca",
      "metadata": {
        "colab": {
          "base_uri": "https://localhost:8080/"
        },
        "id": "48ad872b-29eb-452d-bafa-8478b6cbc0ca",
        "outputId": "bb2998cc-6d83-40d4-86c3-8ec39f8ed567"
      },
      "outputs": [
        {
          "output_type": "stream",
          "name": "stdout",
          "text": [
            "value associated with 'title' key is:  To Kill a Mockingbird\n",
            "\n",
            "{'title': 'To Kill a Mockingbird', 'author': 'Harper Lee', 'year': 1961}\n",
            "\n",
            "{'title': 'To Kill a Mockingbird', 'author': 'Harper Lee', 'year': 1961, 'genre': 'Fiction'}\n",
            "\n",
            "3000\n"
          ]
        }
      ],
      "source": [
        "# 1.1 Creating Dictionaries\n",
        "\n",
        "book = {\"title\": \"To Kill a Mockingbird\", \"author\" : \"Harper Lee\", \"year\" : 1960}\n",
        "\n",
        "library = dict(location = \"Main St\", num_books = 3000, open_hours = \"9AM-5PM\")\n",
        "\n",
        "# 1.2 Accessing Elements\n",
        "\n",
        "# printing value associated with key 'title' from dictionary book\n",
        "print(\"value associated with 'title' key is: \", book[\"title\"])\n",
        "print()\n",
        "\n",
        "# updating the value of key 'year' in dictionary book to 1961\n",
        "book[\"year\"] = 1961\n",
        "print(book)\n",
        "print()\n",
        "\n",
        "# adding new key-value pair 'genre': 'Fiction' to the dictionary book\n",
        "book[\"genre\"] = \"Fiction\"\n",
        "print(book)\n",
        "print()\n",
        "\n",
        "# accessing the value of key 'num_books' from dictionary library using get method\n",
        "print(library.get('num_books',\"EmptyLibrary\"))"
      ]
    },
    {
      "cell_type": "markdown",
      "id": "56c336f5-fe1c-4cbd-873c-a6cc4f72d929",
      "metadata": {
        "id": "56c336f5-fe1c-4cbd-873c-a6cc4f72d929"
      },
      "source": [
        "# Question 2\n",
        "\n",
        "**Dictionary Methods and Comprehension**\n",
        "\n",
        "**2.1 Dictionary Methods:**\n",
        "\n",
        "a) Create a dictionary named inventory with the following key-value pairs: **apple: 10, banana: 20, orange: 15.**\n",
        "\n",
        "b) Use the **keys** method to print all the keys in the inventory dictionary.\n",
        "\n",
        "c) Use the **values** method to print all the values in the inventory dictionary.\n",
        "\n",
        "d) Use the **items** method to print all the key-value pairs in the inventory dictionary.\n",
        "\n",
        "e) Use the **pop** method to remove the key-value pair for banana from the inventory dictionary and print the updated dictionary.\n",
        "\n",
        "**2.2 Dictionary Comprehension:**\n",
        "\n",
        "a) Create a new dictionary named **cubed_numbers** using dictionary comprehension where the keys are numbers from 1 to 5 and the values are their cubes.\n",
        "\n",
        "b) Create a new dictionary named **fruit_lengths** using dictionary comprehension from the inventory dictionary, where the keys are the same and the values are the length of the fruit names.\n",
        "\n",
        "**(To Find length of a string, we use len(string))**\n"
      ]
    },
    {
      "cell_type": "code",
      "execution_count": null,
      "id": "68a916ad-9681-47af-8510-6ba221e3b335",
      "metadata": {
        "id": "68a916ad-9681-47af-8510-6ba221e3b335",
        "colab": {
          "base_uri": "https://localhost:8080/"
        },
        "outputId": "6ed989cc-de38-478d-d495-954b633198d3"
      },
      "outputs": [
        {
          "output_type": "stream",
          "name": "stdout",
          "text": [
            "Keys in dictionary 'inventory' are:  ['apple', 'banana', 'orange']\n",
            "Values in dictionary 'inventory' are:  [10, 20, 15]\n",
            "Items of dictionary 'inventory' are:  [('apple', 10), ('banana', 20), ('orange', 15)]\n",
            "Updated dictionary:  {'apple': 10, 'orange': 15}\n",
            "Dictionary containing key-value pair of numbers and its cube:  {1: 1, 2: 8, 3: 27, 4: 64, 5: 125}\n",
            "Dictionary containing key-value pair of fruit-name and its length:  {'apple': 5, 'orange': 6}\n"
          ]
        }
      ],
      "source": [
        "# 2.1 Dictionary Methods\n",
        "\n",
        "# creating a dictionary inventory\n",
        "inventory = { \"apple\": 10, \"banana\": 20, \"orange\": 15 }\n",
        "\n",
        "# printing all the keys in dictionary inventory\n",
        "key_inventory = list(inventory.keys())\n",
        "print(\"Keys in dictionary 'inventory' are: \", key_inventory)\n",
        "\n",
        "# printing all the values in dictionary inventory\n",
        "value_inventory = list(inventory.values())\n",
        "print(\"Values in dictionary 'inventory' are: \", value_inventory)\n",
        "\n",
        "# printing all the items of dictionary inventory\n",
        "item_inventory = list(inventory.items())\n",
        "print(\"Items of dictionary 'inventory' are: \", item_inventory)\n",
        "\n",
        "# removing the key-value pair for banana from dictionary inventory\n",
        "inventory.pop('banana','noItemFound')\n",
        "print(\"Updated dictionary: \", inventory)\n",
        "\n",
        "# 2.2 Dictionary Comprehension\n",
        "\n",
        "# creating dictionary cubed_numbers\n",
        "cubed_numbers = { x: x**3 for x in range(1,6)}\n",
        "print(\"Dictionary containing key-value pair of numbers and its cube: \", cubed_numbers)\n",
        "\n",
        "# creating dictionary fruit_lengths\n",
        "fruits_lengths = { x : len(x) for x in inventory.keys()}\n",
        "print(\"Dictionary containing key-value pair of fruit-name and its length: \", fruits_lengths)"
      ]
    }
  ],
  "metadata": {
    "kernelspec": {
      "display_name": "Python 3 (ipykernel)",
      "language": "python",
      "name": "python3"
    },
    "language_info": {
      "codemirror_mode": {
        "name": "ipython",
        "version": 3
      },
      "file_extension": ".py",
      "mimetype": "text/x-python",
      "name": "python",
      "nbconvert_exporter": "python",
      "pygments_lexer": "ipython3",
      "version": "3.11.8"
    },
    "colab": {
      "provenance": []
    }
  },
  "nbformat": 4,
  "nbformat_minor": 5
}