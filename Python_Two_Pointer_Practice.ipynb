{
  "nbformat": 4,
  "nbformat_minor": 0,
  "metadata": {
    "colab": {
      "provenance": []
    },
    "kernelspec": {
      "name": "python3",
      "display_name": "Python 3"
    },
    "language_info": {
      "name": "python"
    }
  },
  "cells": [
    {
      "cell_type": "markdown",
      "source": [
        "**Problem Statement**\n",
        "  \n",
        "Given a sorted array of integers, find two numbers such that they add up to a specific target number. Return the indices of the two numbers.\n",
        "\n",
        "**Example:**\n",
        "\n",
        "Input: arr = [2, 7, 11, 15], target = 9\n",
        "\n",
        "Output: [0, 1]"
      ],
      "metadata": {
        "id": "F1uRChglPh-F"
      }
    },
    {
      "cell_type": "code",
      "source": [
        "def indices_of_two_nums_sum_equals_target(A, x):\n",
        "  # the target is smaller than first value in array, simply stop the work!\n",
        "  if (A[0] > target):\n",
        "    return [-1,-1]\n",
        "\n",
        "  left_pointer = 0\n",
        "  right_pointer = len(A) - 1\n",
        "\n",
        "  while (left_pointer < right_pointer):\n",
        "\n",
        "    # if the A[right_pointer] is greater than target, simply skip/pass the iteration to next by decrementing right_pointer by 1\n",
        "    if (A[right_pointer] > target):\n",
        "      right_pointer -= 1\n",
        "\n",
        "    if ((A[left_pointer] + A[right_pointer]) == x):\n",
        "      return [left_pointer,right_pointer]\n",
        "    elif ((A[left_pointer] + A[right_pointer]) < x):\n",
        "      left_pointer += 1\n",
        "    else:\n",
        "      right_pointer -= 1\n",
        "\n",
        "  return [-1,-1]\n",
        "\n",
        "# main() code\n",
        "arr = [2, 7, 11, 15]\n",
        "target = 9\n",
        "\n",
        "result = indices_of_two_nums_sum_equals_target(arr,target)\n",
        "\n",
        "if result[0] == -1:\n",
        "  print(f\"No two elements in {arr} adds upto {target}\")\n",
        "else:\n",
        "  print(f\"The number at indices {result[0]} and {result[1]} in {arr} adds upto {target}\")"
      ],
      "metadata": {
        "colab": {
          "base_uri": "https://localhost:8080/"
        },
        "id": "1qIclK8iPkri",
        "outputId": "06d2b758-91b1-4678-8849-201fe3d48b0a"
      },
      "execution_count": null,
      "outputs": [
        {
          "output_type": "stream",
          "name": "stdout",
          "text": [
            "The number at indices 0 and 1 in [2, 7, 11, 15] adds upto 9\n"
          ]
        }
      ]
    },
    {
      "cell_type": "markdown",
      "source": [
        "**Problem Statement**\n",
        "\n",
        "Given a sorted array of integers, find two numbers such that the difference between them equals a specific target number. Return the indices of the two numbers.\n",
        "\n",
        "**Example:**\n",
        "\n",
        "Input: arr = [1, 3, 4, 5, 7], target = 2\n",
        "\n",
        "Output: [0, 1]"
      ],
      "metadata": {
        "id": "ICfIQFEbSahx"
      }
    },
    {
      "cell_type": "code",
      "source": [
        "def indices_of_two_nums_difference_equals_target(A, x):\n",
        "  # there will not be any pair of numbers, whose difference is zero (0), as all distinct integers will be present in the input arr (A)\n",
        "  if (x == 0):\n",
        "    return [-1,-1]\n",
        "\n",
        "  left_pointer = 0\n",
        "  right_pointer = len(A) - 1\n",
        "\n",
        "  while (left_pointer < right_pointer):\n",
        "    # if right_pointer reaches to length of array, simply stop!\n",
        "    if (right_pointer == len(A)):\n",
        "      return [-1,-1]\n",
        "\n",
        "    if ((A[right_pointer] - A[left_pointer]) == x):\n",
        "      return [left_pointer, right_pointer]\n",
        "    elif ((A[right_pointer] - A[left_pointer]) < x):\n",
        "      left_pointer += 1\n",
        "      right_pointer += 1\n",
        "    else:\n",
        "      right_pointer -= 1\n",
        "\n",
        "  return [-1,-1]\n",
        "\n",
        "# main() code\n",
        "arr = [1, 3, 4, 5, 7]\n",
        "target = 2\n",
        "\n",
        "result = indices_of_two_nums_difference_equals_target(arr,target)\n",
        "\n",
        "if result[0] == -1:\n",
        "  print(f\"No two elements in {arr} have difference of {target}\")\n",
        "else:\n",
        "  print(f\"The number at indices {result[0]} and {result[1]} in {arr} have difference of {target}\")\n"
      ],
      "metadata": {
        "id": "1iG5cA1PUro_",
        "colab": {
          "base_uri": "https://localhost:8080/"
        },
        "outputId": "3d3d7ebb-81f6-4bc6-8dab-5bd9c6cf5fd9"
      },
      "execution_count": null,
      "outputs": [
        {
          "output_type": "stream",
          "name": "stdout",
          "text": [
            "The number at indices 0 and 1 in [1, 3, 4, 5, 7] have difference of 2\n"
          ]
        }
      ]
    },
    {
      "cell_type": "markdown",
      "source": [
        "**Problem Statement**\n",
        "\n",
        "Given a sorted array of integers, find two numbers such that their product equals a specific target number. Return the indices of the two numbers.\n",
        "\n",
        "**Example:**\n",
        "\n",
        "Input: arr = [1, 2, 3, 6, 8], target = 12\n",
        "\n",
        "Output: [1, 3]"
      ],
      "metadata": {
        "id": "w2eicUfUeM51"
      }
    },
    {
      "cell_type": "code",
      "source": [
        "def indices_of_two_nums_product_equals_target(A, x):\n",
        "\n",
        "  if(A[0] > target):\n",
        "    return[-1,-1]\n",
        "\n",
        "  left_pointer = 0\n",
        "  right_pointer = len(A) - 1\n",
        "\n",
        "  while (left_pointer < right_pointer):\n",
        "\n",
        "    if ((A[left_pointer] * A[right_pointer]) == target):\n",
        "      return [left_pointer, right_pointer]\n",
        "    elif ((A[left_pointer] * A[right_pointer]) < target):\n",
        "      left_pointer += 1\n",
        "    else:\n",
        "      right_pointer -= 1\n",
        "\n",
        "  return [-1,-1]\n",
        "\n",
        "# main() code\n",
        "arr = [1, 2, 3, 6, 8]\n",
        "target = 12\n",
        "\n",
        "result = indices_of_two_nums_product_equals_target(arr, target)\n",
        "\n",
        "if result[0] == -1:\n",
        "  print(f\"No two elements in {arr} have a product of {target}\")\n",
        "else:\n",
        "  print(f\"The number at indices {result[0]} and {result[1]} in {arr} has a product of {target}\")"
      ],
      "metadata": {
        "colab": {
          "base_uri": "https://localhost:8080/"
        },
        "id": "qTXPnHuAeVIt",
        "outputId": "a356937a-17cb-4452-8db5-f6f01ff488a6"
      },
      "execution_count": null,
      "outputs": [
        {
          "output_type": "stream",
          "name": "stdout",
          "text": [
            "The number at indices 1 and 3 in [1, 2, 3, 6, 8] has a product of 12\n"
          ]
        }
      ]
    }
  ]
}