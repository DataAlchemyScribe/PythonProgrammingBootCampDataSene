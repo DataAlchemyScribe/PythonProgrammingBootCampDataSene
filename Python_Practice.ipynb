{
  "nbformat": 4,
  "nbformat_minor": 0,
  "metadata": {
    "colab": {
      "provenance": []
    },
    "kernelspec": {
      "name": "python3",
      "display_name": "Python 3"
    },
    "language_info": {
      "name": "python"
    }
  },
  "cells": [
    {
      "cell_type": "markdown",
      "source": [
        "# **Write a Python Code to Flatten the nested list into a single list.**\n",
        "**input -> [1, [2, [3, [4, [5]]]]]**\n",
        "\n",
        "**output -> [1, 2, 3, 4, 5]**"
      ],
      "metadata": {
        "id": "xRoo5RHOAPgq"
      }
    },
    {
      "cell_type": "code",
      "source": [
        "ns_list = [1, [2, [3, [4, [5]]]]]\n",
        "simple_list = []\n",
        "\n",
        "while ns_list:\n",
        "  # popping first element from deeply nested list and checking the type of the popped element\n",
        "  a = ns_list.pop(0)\n",
        "  # if popped element is list then simply add the popped element to deeply nested list again\n",
        "  if type(a) == list:\n",
        "    ns_list = ns_list + a\n",
        "  # else the popped element is an integer, simply add (append) it to the new simple (flatten) list\n",
        "  else:\n",
        "    simple_list.append(a)\n",
        "\n",
        "print(simple_list)\n"
      ],
      "metadata": {
        "colab": {
          "base_uri": "https://localhost:8080/"
        },
        "id": "kWLJ0WshATKL",
        "outputId": "1d20b993-516c-40b8-abc3-626694193897"
      },
      "execution_count": null,
      "outputs": [
        {
          "output_type": "stream",
          "name": "stdout",
          "text": [
            "[1, 2, 3, 4, 5]\n"
          ]
        }
      ]
    },
    {
      "cell_type": "markdown",
      "source": [
        "**You are given a list of sets, where each set contains integers. Write a Python code that finds the elements that are common to at least half of the sets in the list.**\n",
        "\n",
        "**sets_list** = [\n",
        "{1, 2, 3, 4, 5},\n",
        "\n",
        "{4, 5, 6, 7, 8},\n",
        "\n",
        "{5, 6, 7, 8, 9},\n",
        "\n",
        "{1, 5, 9, 10, 11},\n",
        "\n",
        "{5, 11, 12, 13, 14}\n",
        "]"
      ],
      "metadata": {
        "id": "K2LQ7tzvDQn4"
      }
    },
    {
      "cell_type": "code",
      "source": [
        "sets_list = [\n",
        "{1, 2, 3, 4, 5},\n",
        "{4, 5, 6, 7, 8},\n",
        "{5, 6, 7, 8, 9},\n",
        "{1, 5, 9, 10, 11},\n",
        "{5, 11, 12, 13, 14}\n",
        "]\n",
        "\n",
        "# empty dictionary to store the frequency of elements with a key-value pair (key = element & pair = frequency of element into all the sets)\n",
        "frequency_dict = {}\n",
        "\n",
        "# iterating to all the elements into all the sets\n",
        "for A in sets_list:\n",
        "  for ele in A:\n",
        "    # if iterator element is present inside the frequency dictionary, simply increase the count of it by 1\n",
        "    if ele in frequency_dict:\n",
        "      frequency_dict[ele] += 1\n",
        "    # else iterator element is not present inside the frequency dictionary, then add it to the dictionary\n",
        "    else:\n",
        "      frequency_dict[ele] = 1\n",
        "\n",
        "# using list comprehension, iterate over the frequency dictionary and extract all those elements (key) whose frequency (pair) is greater than equal to 3\n",
        "common_element_in_half_of_sets = [x for (x,y) in frequency_dict.items() if y >= 3]\n",
        "\n",
        "print(common_element_in_half_of_sets)"
      ],
      "metadata": {
        "colab": {
          "base_uri": "https://localhost:8080/"
        },
        "id": "MZsWD34cDbsw",
        "outputId": "1bdadddb-409a-4923-b8bd-4588af82718b"
      },
      "execution_count": null,
      "outputs": [
        {
          "output_type": "stream",
          "name": "stdout",
          "text": [
            "[5]\n"
          ]
        }
      ]
    },
    {
      "cell_type": "markdown",
      "source": [
        "**Write a Python program using a while loop that repeatedly sums the digits of a given positive integer until the result is a single digit.**\n",
        "\n",
        "**For example, for n=9875, sum1=9+8+7+5=29 sum2=2+9=11 sum3=1+1=2 . So Answer is 2**"
      ],
      "metadata": {
        "id": "kO2XkS7aHiLE"
      }
    },
    {
      "cell_type": "code",
      "source": [
        "n = 9875\n",
        "\n",
        "while n > 9:\n",
        "  quo = n\n",
        "  sum = 0\n",
        "  while quo > 0:\n",
        "    sum = sum + (quo % 10)\n",
        "    quo //= 10\n",
        "  n = sum\n",
        "\n",
        "print(n)"
      ],
      "metadata": {
        "colab": {
          "base_uri": "https://localhost:8080/"
        },
        "id": "UEI2WZ0tHoXy",
        "outputId": "9dffaa1d-53c6-4def-f96b-41ef708535b2"
      },
      "execution_count": null,
      "outputs": [
        {
          "output_type": "stream",
          "name": "stdout",
          "text": [
            "2\n"
          ]
        }
      ]
    },
    {
      "cell_type": "markdown",
      "source": [
        "# **Print**\n",
        "\n",
        "\n",
        "### *\n",
        "### * *\n",
        "### * * *\n",
        "### * * * *\n",
        "### * * * * *\n",
        "### * * * * * *"
      ],
      "metadata": {
        "id": "Bh1AKdTNKdgJ"
      }
    },
    {
      "cell_type": "code",
      "source": [
        "star_sign = '*'\n",
        "n = 5\n",
        "for i in range(0,n):\n",
        "  for j in range(0,i+1):\n",
        "    print(f\"{star_sign} \", end= \" \")\n",
        "  print()"
      ],
      "metadata": {
        "colab": {
          "base_uri": "https://localhost:8080/"
        },
        "id": "YSbtDL0EKr1K",
        "outputId": "55586829-f9cc-4434-e6f0-6ba5f9d51107"
      },
      "execution_count": null,
      "outputs": [
        {
          "output_type": "stream",
          "name": "stdout",
          "text": [
            "*  \n",
            "*  *  \n",
            "*  *  *  \n",
            "*  *  *  *  \n",
            "*  *  *  *  *  \n"
          ]
        }
      ]
    },
    {
      "cell_type": "markdown",
      "source": [
        "# **Print**\n",
        "\n",
        "### * * * * *\n",
        "### * * * *\n",
        "### * * *\n",
        "### * *\n",
        "### *"
      ],
      "metadata": {
        "id": "XEVGmpPIMHHx"
      }
    },
    {
      "cell_type": "code",
      "source": [
        "star_sign = '*'\n",
        "n = 5\n",
        "\n",
        "outer = [x for x in range(0,n)]\n",
        "\n",
        "for i in outer[::-1]:\n",
        "  for j in range(0,i+1):\n",
        "    print(f\"{star_sign} \", end=\" \")\n",
        "  print()"
      ],
      "metadata": {
        "colab": {
          "base_uri": "https://localhost:8080/"
        },
        "id": "AbJl-pRUMSTm",
        "outputId": "8254b840-bde7-4492-c511-c6f5be4996e6"
      },
      "execution_count": null,
      "outputs": [
        {
          "output_type": "stream",
          "name": "stdout",
          "text": [
            "*  *  *  *  *  \n",
            "*  *  *  *  \n",
            "*  *  *  \n",
            "*  *  \n",
            "*  \n"
          ]
        }
      ]
    }
  ]
}