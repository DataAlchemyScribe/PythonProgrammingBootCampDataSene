{
  "cells": [
    {
      "cell_type": "markdown",
      "id": "e7083429-67ee-47a2-9c85-ebfa608a4c21",
      "metadata": {
        "id": "e7083429-67ee-47a2-9c85-ebfa608a4c21"
      },
      "source": [
        "# Regex Basics Assignment"
      ]
    },
    {
      "cell_type": "markdown",
      "id": "e28113e7-3f2a-48a4-836b-334bd404fec8",
      "metadata": {
        "id": "e28113e7-3f2a-48a4-836b-334bd404fec8"
      },
      "source": [
        "**Question 1** Count Phone Numbers in Text\n",
        "\n",
        "**Description:** Write a Python function that counts how many phone numbers are present in a given long text. The phone numbers are in a 15-digit format.\n"
      ]
    },
    {
      "cell_type": "code",
      "execution_count": null,
      "id": "19cc4db5-0239-4760-912b-bc44ea11431c",
      "metadata": {
        "colab": {
          "base_uri": "https://localhost:8080/"
        },
        "id": "19cc4db5-0239-4760-912b-bc44ea11431c",
        "outputId": "52186dd4-cd65-4201-f387-32719063e3b7"
      },
      "outputs": [
        {
          "output_type": "stream",
          "name": "stdout",
          "text": [
            "There are total 5 phone numbers (15 - digit format) present in above text!\n"
          ]
        }
      ],
      "source": [
        "import re\n",
        "\n",
        "def find_total_phone_numbers_present_in_text(sentence):\n",
        "  return len(re.findall(r'\\d{15}', sentence))\n",
        "  # return len(re.findall(r'\\d\\d\\d\\d\\d\\d\\d\\d\\d\\d\\d\\d\\d\\d\\d', sentence))\n",
        "\n",
        "\n",
        "# main() code\n",
        "text = \"\"\"\n",
        "Lorem ipsum dolor sit amet, 123456789012345 consectetur adipiscing elit.\n",
        "Sed do eiusmod tempor incididunt ut labore et dolore magna aliqua. Ut enim\n",
        "ad minim veniam, quis nostrud exercitation 987654321098765 ullamco laboris\n",
        "nisi ut aliquip ex ea commodo consequat. Duis aute irure dolor in reprehenderit\n",
        "in voluptate velit esse cillum dolore eu fugiat nulla pariatur. 555555555555555\n",
        "Excepteur sint occaecat cupidatat non proident, sunt in culpa qui officia deserunt\n",
        "mollit anim id est laborum. 111222333444555 000999888777666\n",
        "\"\"\"\n",
        "\n",
        "print(f\"There are total {find_total_phone_numbers_present_in_text(text)} phone numbers (15 - digit format) present in above text!\")"
      ]
    },
    {
      "cell_type": "markdown",
      "id": "72deefdd-16d0-488c-b132-d14cbb405fe4",
      "metadata": {
        "id": "72deefdd-16d0-488c-b132-d14cbb405fe4"
      },
      "source": [
        "**Question 2** Find Occurrences of a String in Text\n",
        "\n",
        "**Description:** Write a Python function that checks how many times a particular substring is present in a given large text. Additionally, find the start index of the 3rd match and the end index of the 7th match. Return the sum of these indices."
      ]
    },
    {
      "cell_type": "code",
      "execution_count": null,
      "id": "3000e34b-980d-4fb9-a01a-20d028406984",
      "metadata": {
        "colab": {
          "base_uri": "https://localhost:8080/"
        },
        "id": "3000e34b-980d-4fb9-a01a-20d028406984",
        "outputId": "dd5b4aee-5975-4ce1-de12-78dedadeac26"
      },
      "outputs": [
        {
          "output_type": "stream",
          "name": "stdout",
          "text": [
            "Total 8 times fox present in above text!\n",
            "Starting index of fox at 3rd match is 108\n",
            "Ending index of fox at 7th match is 293\n",
            "Sum of both indices (starting 3rd match and ending 7th match) is 401\n"
          ]
        }
      ],
      "source": [
        "import re\n",
        "\n",
        "def find_count_of_substring_presents_in_text(sentence, sub_sentence):\n",
        "  print(f\"Total {len(re.findall(sub_sentence, sentence))} times {sub_sentence} present in above text!\")\n",
        "\n",
        "  counter = 0\n",
        "  sum_of_3rd_start_and_7th_end_indices = 0\n",
        "  for sub_text in re.finditer(sub_sentence, sentence):\n",
        "    counter += 1\n",
        "    if(counter == 3):\n",
        "      print(f\"Starting index of {sub_sentence} at 3rd match is {sub_text.start()}\")\n",
        "      sum_of_3rd_start_and_7th_end_indices += sub_text.start()\n",
        "\n",
        "    if (counter == 7):\n",
        "      print(f\"Ending index of {sub_sentence} at 7th match is {sub_text.end()}\")\n",
        "      sum_of_3rd_start_and_7th_end_indices += sub_text.end()\n",
        "      break\n",
        "\n",
        "  print(f\"Sum of both indices (starting 3rd match and ending 7th match) is {sum_of_3rd_start_and_7th_end_indices}\")\n",
        "\n",
        "\n",
        "\n",
        "# main() code\n",
        "text = \"\"\"\n",
        "The quick brown fox jumps over the lazy dog. The quick brown fox jumps over the lazy dog.\n",
        "The quick brown fox jumps over the lazy dog. The quick brown fox jumps over the lazy dog.\n",
        "The quick brown fox jumps over the lazy dog. The quick brown fox jumps over the lazy dog.\n",
        "The quick brown fox jumps over the lazy dog. The quick brown fox jumps over the lazy dog.\n",
        "\"\"\"\n",
        "\n",
        "substring = \"fox\"\n",
        "find_count_of_substring_presents_in_text(text, substring)"
      ]
    },
    {
      "cell_type": "markdown",
      "id": "b670703f-f93c-408d-8c87-193463f34269",
      "metadata": {
        "id": "b670703f-f93c-408d-8c87-193463f34269"
      },
      "source": [
        "**Answer**\n",
        "\n",
        "Count: 8\n",
        "\n",
        "Start index of 3rd match: 108\n",
        "\n",
        "End index of 7th match: 293\n",
        "\n",
        "Sum of indices: 401"
      ]
    }
  ],
  "metadata": {
    "kernelspec": {
      "display_name": "Python 3 (ipykernel)",
      "language": "python",
      "name": "python3"
    },
    "language_info": {
      "codemirror_mode": {
        "name": "ipython",
        "version": 3
      },
      "file_extension": ".py",
      "mimetype": "text/x-python",
      "name": "python",
      "nbconvert_exporter": "python",
      "pygments_lexer": "ipython3",
      "version": "3.12.4"
    },
    "colab": {
      "provenance": []
    }
  },
  "nbformat": 4,
  "nbformat_minor": 5
}