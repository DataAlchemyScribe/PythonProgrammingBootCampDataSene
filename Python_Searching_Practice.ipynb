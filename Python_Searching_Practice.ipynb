{
  "nbformat": 4,
  "nbformat_minor": 0,
  "metadata": {
    "colab": {
      "provenance": []
    },
    "kernelspec": {
      "name": "python3",
      "display_name": "Python 3"
    },
    "language_info": {
      "name": "python"
    }
  },
  "cells": [
    {
      "cell_type": "markdown",
      "source": [
        "##### **LeetCode 1539**\n",
        "## Given an array arr of positive integers sorted in a strictly increasing order, and an integer k.\n",
        "\n",
        "## Return the kth positive integer that is missing from this array\n",
        "\n",
        "**Example 1:**\n",
        "\n",
        "Input: arr = [2,3,4,7,11], k = 5\n",
        "\n",
        "Output: 9\n",
        "\n",
        "Explanation: The missing positive integers are [1,5,6,8,9,10,12,13,...]. The 5th missing positive integer is 9.\n",
        "\n",
        "\n",
        "**Example 2:**\n",
        "\n",
        "Input: arr = [1,2,3,4], k = 2\n",
        "\n",
        "Output: 6\n",
        "\n",
        "Explanation: The missing positive integers are [5,6,7,...]. The 2nd missing positive integer is 6."
      ],
      "metadata": {
        "id": "pFeEeO289YNy"
      }
    },
    {
      "cell_type": "code",
      "source": [
        "def finding_kth_positive_integer_missing_from_array(A,K):\n",
        "  list_of_missing_values_from_arr = []\n",
        "  num = 1\n",
        "  i = 0\n",
        "  while i < len(A):\n",
        "    if num == A[i]:\n",
        "      num += 1\n",
        "      i +=1\n",
        "    else:\n",
        "      list_of_missing_values_from_arr.append(num)\n",
        "      num += 1\n",
        "\n",
        "  if i >= len(A):\n",
        "    while len(list_of_missing_values_from_arr) <= K:\n",
        "        list_of_missing_values_from_arr.append(num)\n",
        "        num += 1\n",
        "\n",
        "  return list_of_missing_values_from_arr[K - 1]\n",
        "\n",
        "print(\"Test Case 1 Running...\")\n",
        "arr = [2,3,4,7,11]\n",
        "k = 5\n",
        "kth_positive_integer_missing_from_arr = finding_kth_positive_integer_missing_from_array(arr,k)\n",
        "print(f\"The {k}th missing positive integer in {arr} is {kth_positive_integer_missing_from_arr}\")\n",
        "print(\"Test Case 1 Passed!\")\n",
        "\n",
        "print()\n",
        "\n",
        "print(\"Test Case 2 Running...\")\n",
        "arr = [1,2,3,4]\n",
        "k = 2\n",
        "kth_positive_integer_missing_from_arr = finding_kth_positive_integer_missing_from_array(arr,k)\n",
        "print(f\"The {k}th missing positive integer in {arr} is {kth_positive_integer_missing_from_arr}\")\n",
        "print(\"Test Case 2 Passed!\")"
      ],
      "metadata": {
        "colab": {
          "base_uri": "https://localhost:8080/"
        },
        "id": "rylIArm-9ywF",
        "outputId": "ac2dd375-5844-4ae2-c846-fd55f665d544"
      },
      "execution_count": null,
      "outputs": [
        {
          "output_type": "stream",
          "name": "stdout",
          "text": [
            "Test Case 1 Running...\n",
            "The 5th missing positive integer in [2, 3, 4, 7, 11] is 9\n",
            "Test Case 1 Passed!\n",
            "\n",
            "Test Case 2 Running...\n",
            "The 2th missing positive integer in [1, 2, 3, 4] is 6\n",
            "Test Case 2 Passed!\n"
          ]
        }
      ]
    },
    {
      "cell_type": "markdown",
      "source": [
        "##### **LeetCode 540**\n",
        "\n",
        "## You are given a sorted array consisting of only integers where every element appears exactly twice, except for one element which appears exactly once.\n",
        "\n",
        "## Return the single element that appears only once.\n",
        "\n",
        "Your solution must run in O(log n) time and O(1) space.\n",
        "\n",
        "**Example 1:**\n",
        "\n",
        "Input: nums = [1,1,2,3,3,4,4,8,8]\n",
        "\n",
        "Output: 2\n",
        "\n",
        "**Example 2:**\n",
        "\n",
        "Input: nums = [3,3,7,7,10,11,11]\n",
        "\n",
        "Output: 10"
      ],
      "metadata": {
        "id": "Vw5MSdsDf3EB"
      }
    },
    {
      "cell_type": "code",
      "source": [
        "def find_single_element_in_sorted_array(N):\n",
        "  slow = 0\n",
        "\n",
        "  while slow < len(N):\n",
        "\n",
        "    if slow == (len(N) - 1):\n",
        "      return N[slow]\n",
        "\n",
        "    if N[slow] == N[slow + 1]:\n",
        "      slow +=2\n",
        "    else:\n",
        "      return N[slow]\n",
        "\n",
        "print(\"Test Case 1 Running...\")\n",
        "nums = [1,1,2,3,3,4,4,8,8]\n",
        "print(f\"{find_single_element_in_sorted_array(nums)} is the only single element in {nums}\")\n",
        "print(\"Test Case 1 Passed!\")\n",
        "print()\n",
        "print(\"Test Case 2 Running...\")\n",
        "nums =  [3,3,7,7,10,11,11]\n",
        "print(f\"{find_single_element_in_sorted_array(nums)} is the only single element in {nums}\")\n",
        "print(\"Test Case 2 Passed!\")"
      ],
      "metadata": {
        "colab": {
          "base_uri": "https://localhost:8080/"
        },
        "id": "TWnvvTZpgYt3",
        "outputId": "ca28f27d-7458-43bf-add1-8ccb5ca922ee"
      },
      "execution_count": null,
      "outputs": [
        {
          "output_type": "stream",
          "name": "stdout",
          "text": [
            "Test Case 1 Running...\n",
            "2 is the only single element in [1, 1, 2, 3, 3, 4, 4, 8, 8]\n",
            "Test Case 1 Passed!\n",
            "\n",
            "Test Case 2 Running...\n",
            "10 is the only single element in [3, 3, 7, 7, 10, 11, 11]\n",
            "Test Case 2 Passed!\n"
          ]
        }
      ]
    }
  ]
}