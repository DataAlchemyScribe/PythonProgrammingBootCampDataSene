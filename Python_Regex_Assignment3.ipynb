{
  "cells": [
    {
      "cell_type": "markdown",
      "id": "50dbd500-3cbe-48c5-a3f1-9b02ac1bf3b1",
      "metadata": {
        "id": "50dbd500-3cbe-48c5-a3f1-9b02ac1bf3b1"
      },
      "source": [
        "# Assignment 3- Regex"
      ]
    },
    {
      "cell_type": "markdown",
      "id": "79d820c0-5693-415f-ad68-4f7796a29c4f",
      "metadata": {
        "id": "79d820c0-5693-415f-ad68-4f7796a29c4f"
      },
      "source": [
        "**Question 1: Password Validation**\n",
        "\n",
        "**Question:** Write a regex pattern that validates the password according to the following rules:\n",
        "\n",
        "1. Must be at least 8 characters long.\n",
        "2. Must contain at least one uppercase letter.\n",
        "3. Must contain at least one lowercase letter.\n",
        "4. Must contain at least one digit.\n",
        "5. Must not contain the sequence \"123\" anywhere in the password"
      ]
    },
    {
      "cell_type": "markdown",
      "id": "7f8e8a7a-35f6-4528-8cab-026e4e577311",
      "metadata": {
        "id": "7f8e8a7a-35f6-4528-8cab-026e4e577311"
      },
      "source": [
        "**Examples:**\n",
        "\n",
        "**Password:** Password1\n",
        "\n",
        "**Output:** True (It meets all criteria)\n",
        "\n",
        "**Password:** pass1234\n",
        "\n",
        "**Output:** False (No uppercase letter and contains the sequence \"123\")\n",
        "\n",
        "**Password:** StrongPass123\n",
        "\n",
        "**Output:** False (Contains the sequence \"123\")"
      ]
    },
    {
      "cell_type": "code",
      "execution_count": null,
      "id": "05879842-6ef1-4eef-895a-51b976c5c668",
      "metadata": {
        "id": "05879842-6ef1-4eef-895a-51b976c5c668",
        "colab": {
          "base_uri": "https://localhost:8080/"
        },
        "outputId": "f3797771-0918-4160-c9da-040e7c6972b6"
      },
      "outputs": [
        {
          "output_type": "stream",
          "name": "stdout",
          "text": [
            "Test Case 1 Running...\n",
            "Question: Is 'Password1' validated?\n",
            "Answer: True\n",
            "Test Case 1 Passed!\n",
            "\n",
            "Test Case 2 Running...\n",
            "Question: Is 'pass1234' validated?\n",
            "Answer: False\n",
            "Test Case 2 Passed!\n",
            "\n",
            "Test Case 3 Running...\n",
            "Question: Is 'StrongPass123' validated?\n",
            "Answer: False\n",
            "Test Case 3 Passed!\n"
          ]
        }
      ],
      "source": [
        "import re\n",
        "\n",
        "def is_password_validate(sentence):\n",
        "  if re.match(r\"^(?=.*[A-Z])(?=.*[0-9])(?=.*[a-z])(?!.*123)[a-zA-Z0-9]{8,}$\", sentence):\n",
        "    return True\n",
        "\n",
        "  return False\n",
        "\n",
        "\n",
        "# main() code\n",
        "# Test-Case 1\n",
        "print(\"Test Case 1 Running...\")\n",
        "input_pwd = \"Password1\"\n",
        "print(f\"Question: Is '{input_pwd}' validated?\\nAnswer: {is_password_validate(input_pwd)}\")\n",
        "if is_password_validate(input_pwd) == True:\n",
        "  print(\"Test Case 1 Passed!\")\n",
        "else:\n",
        "  print(\"Test Case 1 Failed!\")\n",
        "\n",
        "print()\n",
        "\n",
        "# Test-Case 2\n",
        "print(\"Test Case 2 Running...\")\n",
        "input_pwd = \"pass1234\"\n",
        "print(f\"Question: Is '{input_pwd}' validated?\\nAnswer: {is_password_validate(input_pwd)}\")\n",
        "if is_password_validate(input_pwd) == False:\n",
        "  print(\"Test Case 2 Passed!\")\n",
        "else:\n",
        "  print(\"Test Case 2 Failed!\")\n",
        "\n",
        "print()\n",
        "\n",
        "# Test-Case 3\n",
        "print(\"Test Case 3 Running...\")\n",
        "input_pwd = \"StrongPass123\"\n",
        "print(f\"Question: Is '{input_pwd}' validated?\\nAnswer: {is_password_validate(input_pwd)}\")\n",
        "if is_password_validate(input_pwd) == False:\n",
        "  print(\"Test Case 3 Passed!\")\n",
        "else:\n",
        "  print(\"Test Case 3 Failed!\")"
      ]
    },
    {
      "cell_type": "markdown",
      "id": "838faf11-a9f4-4563-9875-aab778fe28ff",
      "metadata": {
        "id": "838faf11-a9f4-4563-9875-aab778fe28ff"
      },
      "source": [
        "**Question 2: Email Address Validation**\n",
        "    \n",
        "**Question:** Write a regex pattern that validates an email address where:\n",
        "\n",
        "1. It should contain an \"@\" symbol followed by a domain.\n",
        "2. The domain must be at least two characters long.\n",
        "3. The email should not end with \".com\" but can end with any other domain like \".net\", \".org\", etc.\n"
      ]
    },
    {
      "cell_type": "markdown",
      "id": "fb532189-2ec4-435c-90a1-ce4f2dc229fa",
      "metadata": {
        "id": "fb532189-2ec4-435c-90a1-ce4f2dc229fa"
      },
      "source": [
        "**Examples:**\n",
        "\n",
        "**Email:** user@example.net\n",
        "**Output:** True (Ends with \".net\" and meets all criteria)\n",
        "\n",
        "**Email:** user@example.com\n",
        "Output: False (Ends with \".com\", which is not allowed)\n",
        "\n",
        "**Email:** user@domain.io\n",
        "**Output** True (Ends with \".io\" and meets all criteria)"
      ]
    },
    {
      "cell_type": "code",
      "execution_count": null,
      "id": "8f6db7f9-a27e-4cc6-9f39-da478703c846",
      "metadata": {
        "id": "8f6db7f9-a27e-4cc6-9f39-da478703c846",
        "colab": {
          "base_uri": "https://localhost:8080/"
        },
        "outputId": "00b51729-5d95-4601-870c-2ddbaaaa8bf5"
      },
      "outputs": [
        {
          "output_type": "stream",
          "name": "stdout",
          "text": [
            "Test Case 1 Running...\n",
            "Question: Is 'user@example.net' validated?\n",
            "Answer: True\n",
            "Test Case 1 Passed!\n",
            "\n",
            "Test Case 2 Running...\n",
            "Question: Is 'user@example.com' validated?\n",
            "Answer: False\n",
            "Test Case 2 Passed!\n",
            "\n",
            "Test Case 3 Running...\n",
            "Question: Is 'user@domain.io' validated?\n",
            "Answer: True\n",
            "Test Case 3 Passed!\n"
          ]
        }
      ],
      "source": [
        "import re\n",
        "\n",
        "def is_email_validate(sentence):\n",
        "  if re.match(r\"^[\\w\\d]+@[a-zA-z]{2,}\\.(?!com$)[a-zA-Z]{2,}$\", sentence):\n",
        "    return True\n",
        "\n",
        "  return False\n",
        "\n",
        "# main() code\n",
        "# Test-Case 1\n",
        "print(\"Test Case 1 Running...\")\n",
        "input_email = \"user@example.net\"\n",
        "print(f\"Question: Is '{input_email}' validated?\\nAnswer: {is_email_validate(input_email)}\")\n",
        "if is_email_validate(input_email) == True:\n",
        "  print(\"Test Case 1 Passed!\")\n",
        "else:\n",
        "  print(\"Test Case 1 Failed!\")\n",
        "\n",
        "print()\n",
        "\n",
        "# Test-Case 2\n",
        "print(\"Test Case 2 Running...\")\n",
        "input_email = \"user@example.com\"\n",
        "print(f\"Question: Is '{input_email}' validated?\\nAnswer: {is_email_validate(input_email)}\")\n",
        "if is_email_validate(input_email) == False:\n",
        "  print(\"Test Case 2 Passed!\")\n",
        "else:\n",
        "  print(\"Test Case 2 Failed!\")\n",
        "\n",
        "print()\n",
        "\n",
        "# Test-Case 3\n",
        "print(\"Test Case 3 Running...\")\n",
        "input_email = \"user@domain.io\"\n",
        "print(f\"Question: Is '{input_email}' validated?\\nAnswer: {is_email_validate(input_email)}\")\n",
        "if is_email_validate(input_email) == True:\n",
        "  print(\"Test Case 3 Passed!\")\n",
        "else:\n",
        "  print(\"Test Case 3 Failed!\")"
      ]
    }
  ],
  "metadata": {
    "kernelspec": {
      "display_name": "Python 3 (ipykernel)",
      "language": "python",
      "name": "python3"
    },
    "language_info": {
      "codemirror_mode": {
        "name": "ipython",
        "version": 3
      },
      "file_extension": ".py",
      "mimetype": "text/x-python",
      "name": "python",
      "nbconvert_exporter": "python",
      "pygments_lexer": "ipython3",
      "version": "3.12.4"
    },
    "colab": {
      "provenance": []
    }
  },
  "nbformat": 4,
  "nbformat_minor": 5
}