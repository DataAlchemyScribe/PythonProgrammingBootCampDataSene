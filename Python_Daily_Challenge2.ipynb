{
  "cells": [
    {
      "cell_type": "markdown",
      "id": "4221f9eb-836e-45e8-86ed-b5399fb7f556",
      "metadata": {
        "id": "4221f9eb-836e-45e8-86ed-b5399fb7f556"
      },
      "source": [
        "# Daily Challenge Questions July 16"
      ]
    },
    {
      "cell_type": "markdown",
      "id": "e71d7e35-2485-40c2-9e12-18b4d04dd701",
      "metadata": {
        "id": "e71d7e35-2485-40c2-9e12-18b4d04dd701"
      },
      "source": [
        "# Question 1:\n",
        "\n",
        "Given the nested tuple info = ((('Emma', 26), ('Frank', 32)), (('Grace', 29), ('Henry', 27)), (('Ivy', 30), ('Jack', 25)), (('Kate', 28), ('Leo', 31))).\n",
        "\n",
        "Using tuple unpacking and list comprehension, create a new list containing the **ages of all individuals whose names end with 'y'.**"
      ]
    },
    {
      "cell_type": "code",
      "execution_count": null,
      "id": "72807312-6d82-4b89-89b8-3f5ebf4fc340",
      "metadata": {
        "colab": {
          "base_uri": "https://localhost:8080/"
        },
        "id": "72807312-6d82-4b89-89b8-3f5ebf4fc340",
        "outputId": "8ec93012-22fb-4846-f644-75ce2b5e531c"
      },
      "outputs": [
        {
          "output_type": "stream",
          "name": "stdout",
          "text": [
            "[27, 30]\n"
          ]
        }
      ],
      "source": [
        "info = ((('Emma', 26), ('Frank', 32)), (('Grace', 29), ('Henry', 27)), (('Ivy', 30), ('Jack', 25)), (('Kate', 28), ('Leo', 31)))\n",
        "\n",
        "age_of_individual_whose_name_ends_with_y = [age for pair in info for (name,age) in pair if name.endswith('y')]\n",
        "\n",
        "print(age_of_individual_whose_name_ends_with_y)"
      ]
    },
    {
      "cell_type": "markdown",
      "id": "1bf9e7f4-885e-4f16-8e73-1edc83028db6",
      "metadata": {
        "id": "1bf9e7f4-885e-4f16-8e73-1edc83028db6"
      },
      "source": [
        " # Question 2:\n",
        "\n",
        "Given the nested list data = [[['a', 'b', 'c'], ['d', 'e', 'f']], [['g', 'h', 'i'], ['j', 'k', 'l']]].\n",
        "\n",
        "Using list comprehension, create a **new list containing all characters from data that are not vowels ('a', 'e', 'i', 'o', 'u').**"
      ]
    },
    {
      "cell_type": "code",
      "execution_count": null,
      "id": "1feeba73-778c-49dd-8c9c-580d0dc9b364",
      "metadata": {
        "colab": {
          "base_uri": "https://localhost:8080/"
        },
        "id": "1feeba73-778c-49dd-8c9c-580d0dc9b364",
        "outputId": "f6b9f36f-fac0-4f3b-cd7f-a5dbddc4f5e3"
      },
      "outputs": [
        {
          "output_type": "stream",
          "name": "stdout",
          "text": [
            "['b', 'c', 'd', 'f', 'g', 'h', 'j', 'k', 'l']\n"
          ]
        }
      ],
      "source": [
        "data = [[['a', 'b', 'c'], ['d', 'e', 'f']], [['g', 'h', 'i'], ['j', 'k', 'l']]]\n",
        "\n",
        "consonant_in_data = [x for collections in data for items in collections for x in items if x not in ['a', 'e', 'i', 'o', 'u']]\n",
        "\n",
        "print(consonant_in_data)"
      ]
    },
    {
      "cell_type": "markdown",
      "id": "07ac759c-f8ac-4779-ba86-0a0a2cea5a6e",
      "metadata": {
        "id": "07ac759c-f8ac-4779-ba86-0a0a2cea5a6e"
      },
      "source": [
        "# Question 3\n",
        "\n",
        "Given the nested dictionary **data** = {'A': {'x': [1, 2, 3]}, 'B': {'y': [4, 5, 6]}}, using dictionary comprehension, create a new dictionary where each key is from the original dictionary and each value is the sum of its associated list values.\n",
        "\n",
        "**Output:**\n",
        "\n",
        "For the given data, the output dictionary should be {'A': 6, 'B': 15}.\n",
        "\n"
      ]
    },
    {
      "cell_type": "code",
      "execution_count": null,
      "id": "d693d5d8-66b4-4b97-bab8-223ab01f6e24",
      "metadata": {
        "colab": {
          "base_uri": "https://localhost:8080/"
        },
        "id": "d693d5d8-66b4-4b97-bab8-223ab01f6e24",
        "outputId": "ed0f542b-ec8d-47a9-d903-167f94b2ad1e"
      },
      "outputs": [
        {
          "output_type": "stream",
          "name": "stdout",
          "text": [
            "{'A': 6, 'B': 15}\n"
          ]
        }
      ],
      "source": [
        "data = {'A': {'x': [1, 2, 3]}, 'B': {'y': [4, 5, 6]}}\n",
        "\n",
        "new_dict_data = {m : sum(i) for (m,n) in data.items() for i in n.values()}\n",
        "\n",
        "print(new_dict_data)"
      ]
    }
  ],
  "metadata": {
    "kernelspec": {
      "display_name": "Python 3 (ipykernel)",
      "language": "python",
      "name": "python3"
    },
    "language_info": {
      "codemirror_mode": {
        "name": "ipython",
        "version": 3
      },
      "file_extension": ".py",
      "mimetype": "text/x-python",
      "name": "python",
      "nbconvert_exporter": "python",
      "pygments_lexer": "ipython3",
      "version": "3.11.8"
    },
    "colab": {
      "provenance": []
    }
  },
  "nbformat": 4,
  "nbformat_minor": 5
}